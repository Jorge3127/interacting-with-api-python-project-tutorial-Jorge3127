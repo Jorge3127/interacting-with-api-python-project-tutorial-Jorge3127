{
 "cells": [
  {
   "cell_type": "markdown",
   "metadata": {},
   "source": [
    "# Explore here"
   ]
  },
  {
   "cell_type": "code",
   "execution_count": null,
   "metadata": {},
   "outputs": [
    {
     "name": "stdout",
     "output_type": "stream",
     "text": [
      "[{'duration_ms': 3.263733333333333, 'name': 'Si Antes Te Hubiera Conocido', 'popularity': 93}, {'duration_ms': 2.87995, 'name': 'QLONA', 'popularity': 83}, {'duration_ms': 2.8413333333333335, 'name': 'AMARGURA', 'popularity': 84}, {'duration_ms': 2.5729, 'name': 'MI EX TENÍA RAZÓN', 'popularity': 82}, {'duration_ms': 3.4604333333333335, 'name': 'PROVENZA', 'popularity': 80}, {'duration_ms': 3.2988833333333334, 'name': 'TQG', 'popularity': 81}, {'duration_ms': 3.7682166666666665, 'name': 'MAMIII', 'popularity': 78}, {'duration_ms': 4.968833333333333, 'name': '+57', 'popularity': 80}, {'duration_ms': 2.7397666666666667, 'name': 'MIENTRAS ME CURO DEL CORA', 'popularity': 79}, {'duration_ms': 3.3353333333333333, 'name': 'X SI VOLVEMOS', 'popularity': 77}]\n",
      "   duration_ms                       name  popularity\n",
      "9     3.335333              X SI VOLVEMOS          77\n",
      "6     3.768217                     MAMIII          78\n",
      "8     2.739767  MIENTRAS ME CURO DEL CORA          79\n",
      "4     3.460433                   PROVENZA          80\n",
      "7     4.968833                        +57          80\n"
     ]
    }
   ],
   "source": [
    "import os\n",
    "import pandas as pd\n",
    "import seaborn as sns\n",
    "import spotipy\n",
    "from dotenv import load_dotenv\n",
    "from spotipy.oauth2 import SpotifyClientCredentials\n",
    "\n",
    "CLIENT_ID=\"0e724116d5604b5a98695b83a31c0e2b\"\n",
    "CLIENT_SECRET=\"568c83764e0d425d9da292ecac700de8\"\n",
    "\n",
    "# load the .env file variables\n",
    "load_dotenv()\n",
    "\n",
    "con = spotipy.Spotify(auth_manager = SpotifyClientCredentials(client_id = CLIENT_ID, client_secret = CLIENT_SECRET))\n",
    "\n",
    "artist_id = \"3TVXtAsR1Inumwj472S9r4\"\n",
    "\n",
    "response = con.artist_top_tracks(\"790FomKkXshlbRYZFtlgla\")\n",
    "if response:\n",
    "  # We keep the \"tracks\" object of the answer\n",
    "  tracks = response[\"tracks\"]\n",
    "  # We select, for each song, the data we are interested in and discard the rest\n",
    "  tracks = [{k: (v/(1000*60))%60 if k == \"duration_ms\" else v for k, v in track.items() if k in [\"name\", \"popularity\", \"duration_ms\"]} for track in tracks]\n",
    "\n",
    "print(tracks)\n",
    "\n",
    "\n"
   ]
  },
  {
   "cell_type": "code",
   "execution_count": 14,
   "metadata": {},
   "outputs": [
    {
     "data": {
      "image/png": "[encoded data removed]",
      "text/plain": [
       "<Figure size 640x480 with 1 Axes>"
      ]
     },
     "metadata": {},
     "output_type": "display_data"
    }
   ],
   "source": [
    "scatter_plot = sns.scatterplot(data = tracks_df, x = \"popularity\", y = \"duration_ms\")\n",
    "fig = scatter_plot.get_figure()\n",
    "fig.savefig(\"scatter_plot.png\")"
   ]
  }
 ],
 "metadata": {
  "kernelspec": {
   "display_name": "Python 3",
   "language": "python",
   "name": "python3"
  },
  "language_info": {
   "codemirror_mode": {
    "name": "ipython",
    "version": 3
   },
   "file_extension": ".py",
   "mimetype": "text/x-python",
   "name": "python",
   "nbconvert_exporter": "python",
   "pygments_lexer": "ipython3",
   "version": "3.11.4"
  },
  "orig_nbformat": 4
 },
 "nbformat": 4,
 "nbformat_minor": 2
}
